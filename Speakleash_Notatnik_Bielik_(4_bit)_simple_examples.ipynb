{
  "nbformat": 4,
  "nbformat_minor": 0,
  "metadata": {
    "colab": {
      "provenance": [],
      "gpuType": "T4"
    },
    "kernelspec": {
      "name": "python3",
      "display_name": "Python 3"
    },
    "language_info": {
      "name": "python"
    },
    "accelerator": "GPU"
  },
  "cells": [
    {
      "cell_type": "markdown",
      "source": [
        "<p align=\"center\">\n",
        "  <img src=\"https://huggingface.co/speakleash/Bielik-7B-Instruct-v0.1/raw/main/speakleash_cyfronet.png\">\n",
        "</p>"
      ],
      "metadata": {
        "id": "V55IAMNhYrP9"
      }
    },
    {
      "cell_type": "markdown",
      "source": [
        "### Przygotowanie środowiska"
      ],
      "metadata": {
        "id": "dpi-lp87jeIu"
      }
    },
    {
      "cell_type": "markdown",
      "source": [],
      "metadata": {
        "id": "kAiJLr8y6a8U"
      }
    },
    {
      "cell_type": "code",
      "source": [
        "#%%capture\n",
        "\n",
        "!pip install accelerate -q\n",
        "!pip install -i https://pypi.org/simple/ bitsandbytes -q\n"
      ],
      "metadata": {
        "id": "07-4DrcSdEf8"
      },
      "execution_count": null,
      "outputs": []
    },
    {
      "cell_type": "code",
      "source": [
        "import gc\n",
        "import torch"
      ],
      "metadata": {
        "id": "2iD0O366dg0K"
      },
      "execution_count": null,
      "outputs": []
    },
    {
      "cell_type": "code",
      "source": [
        "import warnings\n",
        "warnings.filterwarnings(\"ignore\") # tylko na potrzeby naszego demo ;)"
      ],
      "metadata": {
        "id": "YfVY6E7ge6bT"
      },
      "execution_count": null,
      "outputs": []
    },
    {
      "cell_type": "code",
      "source": [],
      "metadata": {
        "id": "KZJ9scMFdEdn"
      },
      "execution_count": null,
      "outputs": []
    },
    {
      "cell_type": "markdown",
      "source": [
        "### Inicjalizacja modelu (4 bit)"
      ],
      "metadata": {
        "id": "MqfY6a1qgvYi"
      }
    },
    {
      "cell_type": "code",
      "source": [
        "from transformers import AutoModelForCausalLM, AutoTokenizer, BitsAndBytesConfig, TextStreamer\n",
        "\n",
        "device = \"cuda\"\n",
        "model_name = 'speakleash/Bielik-7B-Instruct-v0.1'\n",
        "\n",
        "\n",
        "temperature = 1.0\n",
        "max_tokens = 500\n",
        "top_k = 200\n",
        "top_p = 1\n",
        "\n",
        "load_4_bit = True\n",
        "\n",
        "\n",
        "tokenizer = AutoTokenizer.from_pretrained(model_name)\n",
        "tokenizer.pad_token = tokenizer.eos_token\n",
        "\n",
        "streamer = TextStreamer(tokenizer, skip_prompt=True, skip_special_tokens=True)\n",
        "\n",
        "quantization_config = None\n",
        "\n",
        "if load_4_bit:\n",
        "  quantization_config = BitsAndBytesConfig(\n",
        "      load_in_4bit=True,\n",
        "      bnb_4bit_compute_dtype=torch.bfloat16\n",
        "  )\n",
        "\n",
        "model = AutoModelForCausalLM.from_pretrained(model_name,\n",
        "                                            torch_dtype=torch.bfloat16,\n",
        "                                            quantization_config=quantization_config\n",
        "                                            )\n",
        "\n"
      ],
      "metadata": {
        "colab": {
          "base_uri": "https://localhost:8080/"
        },
        "id": "vfWiekAIt0DR",
        "outputId": "235cb4a8-d8f5-4825-ed13-6312eba228c2"
      },
      "execution_count": null,
      "outputs": [
        {
          "output_type": "stream",
          "name": "stderr",
          "text": [
            "Loading checkpoint shards: 100%|████████████████████████████████████████████████████████████████████████████████████████████████████████████████████████████████| 3/3 [00:02<00:00,  1.04it/s]\n"
          ]
        }
      ]
    },
    {
      "cell_type": "markdown",
      "source": [
        "### Funkcja pomocnicza do generowania odpowiedzi"
      ],
      "metadata": {
        "id": "DMT64Pa06HR1"
      }
    },
    {
      "cell_type": "code",
      "source": [
        "import uuid\n",
        "import json\n",
        "\n",
        "temperature = 0.7\n",
        "max_tokens = 256\n",
        "top_k = 100\n",
        "top_p = 1\n",
        "\n",
        "def generate(prompt, system = None):\n",
        "\n",
        "  messages = []\n",
        "\n",
        "  if system:\n",
        "    messages.append( {\"role\": \"system\", \"content\": system })\n",
        "\n",
        "  messages.append( {\"role\": \"user\", \"content\": prompt })\n",
        "\n",
        "\n",
        "  input_ids = tokenizer.apply_chat_template(messages, return_tensors=\"pt\")\n",
        "  model_inputs = input_ids\n",
        "\n",
        "  if torch.cuda.is_available():\n",
        "    model_inputs = input_ids.to(device)\n",
        "\n",
        "  # generowanie odpowiedzi\n",
        "  outputs = model.generate(model_inputs,\n",
        "                               streamer = streamer,\n",
        "                               max_new_tokens=max_tokens,\n",
        "                               do_sample=True if temperature else False,\n",
        "                               temperature = temperature,\n",
        "                               top_k = top_k,\n",
        "                               top_p = top_p)\n",
        "\n",
        "  # zapis do pliku\n",
        "  filename = f\"{str(uuid.uuid4())[:8]}.txt\"\n",
        "\n",
        "  with open(filename, \"w\") as file:\n",
        "      content = {\n",
        "          \"prompt\": messages,\n",
        "           \"output\": tokenizer.batch_decode(outputs, skip_special_tokens=False)\n",
        "      }\n",
        "      json.dump(content, file, ensure_ascii=False, indent=4)\n",
        "\n",
        "\n"
      ],
      "metadata": {
        "id": "8fyc3sKm4n3J"
      },
      "execution_count": null,
      "outputs": []
    },
    {
      "cell_type": "markdown",
      "source": [
        "#### Test"
      ],
      "metadata": {
        "id": "bnY_3s0u4My5"
      }
    },
    {
      "cell_type": "code",
      "source": [
        "generate(\"Hej, jesteś tam?\")"
      ],
      "metadata": {
        "id": "oOKfgKJU0R_J",
        "colab": {
          "base_uri": "https://localhost:8080/"
        },
        "outputId": "e4a68ef8-d424-4670-ac05-0ff8f514713f"
      },
      "execution_count": null,
      "outputs": [
        {
          "output_type": "stream",
          "name": "stderr",
          "text": [
            "The attention mask and the pad token id were not set. As a consequence, you may observe unexpected behavior. Please pass your input's `attention_mask` to obtain reliable results.\n",
            "Setting `pad_token_id` to `eos_token_id`:2 for open-end generation.\n"
          ]
        },
        {
          "output_type": "stream",
          "name": "stdout",
          "text": [
            "[/INST] [INST] Hej, jesteś tam? [/INST]  Cześć! Tak, jestem tutaj. W czym mogę Ci pomóc?\n"
          ]
        }
      ]
    },
    {
      "cell_type": "code",
      "source": [],
      "metadata": {
        "id": "guHl_03k23-T"
      },
      "execution_count": null,
      "outputs": []
    },
    {
      "cell_type": "code",
      "source": [
        "generate(\"Hej, czym się zajmujesz?\", system = \"Jesteś programistą baz danych, który chce rozwijać swoje kompetencje w obszarze AI\")"
      ],
      "metadata": {
        "id": "GcQHXFZYzSRf",
        "colab": {
          "base_uri": "https://localhost:8080/"
        },
        "outputId": "0d8fed37-5c75-40a6-df14-308485fc031a"
      },
      "execution_count": null,
      "outputs": [
        {
          "output_type": "stream",
          "name": "stderr",
          "text": [
            "The attention mask and the pad token id were not set. As a consequence, you may observe unexpected behavior. Please pass your input's `attention_mask` to obtain reliable results.\n",
            "Setting `pad_token_id` to `eos_token_id`:2 for open-end generation.\n"
          ]
        },
        {
          "output_type": "stream",
          "name": "stdout",
          "text": [
            " Cześć! Jako programista baz danych rozwijam się w obszarze sztucznej inteligencji. Na co dzień zajmuję się implementacją AI w różnych branżach, od medycyny po finanse. Opracowuję modele statystyczne, testuję nowe algorytmy, a także doradzam klientom w kwestiach związanych z wykorzystaniem AI w ich projektach. Moim celem jest promowanie AI jako efektywnego narzędzia do rozwiązywania złożonych problemów. Cieszę się, że mogę pomagać firmom i instytucjom w wykorzystywaniu SI do osiągania przewag konkurencyjnych.\n"
          ]
        }
      ]
    },
    {
      "cell_type": "markdown",
      "source": [
        "# Przykład 1\n",
        "\n",
        "Po prostu **\"Hello World\"**, a bardziej **\"Witaj świecie!\"**"
      ],
      "metadata": {
        "id": "igmwz-HEyeMj"
      }
    },
    {
      "cell_type": "code",
      "source": [
        "temperature = 1.0\n",
        "#max_tokens = 256\n",
        "\n",
        "prompt = \"Witaj świecie!\"\n",
        "generate(prompt)\n",
        "\n"
      ],
      "metadata": {
        "id": "KpvjcGVFpxu4",
        "colab": {
          "base_uri": "https://localhost:8080/"
        },
        "outputId": "cf365788-c1e9-4af9-a3d7-8369e4a82e7a"
      },
      "execution_count": null,
      "outputs": [
        {
          "output_type": "stream",
          "name": "stderr",
          "text": [
            "The attention mask and the pad token id were not set. As a consequence, you may observe unexpected behavior. Please pass your input's `attention_mask` to obtain reliable results.\n",
            "Setting `pad_token_id` to `eos_token_id`:2 for open-end generation.\n"
          ]
        },
        {
          "output_type": "stream",
          "name": "stdout",
          "text": [
            " Witaj świecie! Cieszymy się, że do nas dołączyłeś.\n"
          ]
        }
      ]
    },
    {
      "cell_type": "code",
      "source": [],
      "metadata": {
        "id": "NIBU0rb0oXPR"
      },
      "execution_count": null,
      "outputs": []
    },
    {
      "cell_type": "markdown",
      "source": [
        "# Przykład 2\n",
        "\n",
        "Zadawanie pytań otwartych taki LLM-owy jeden z dziesięciu."
      ],
      "metadata": {
        "id": "ctgLpx6NzCEQ"
      }
    },
    {
      "cell_type": "code",
      "source": [
        "temperature = 0.1\n",
        "max_tokens = 512\n",
        "\n",
        "prompt = \"Co to jest fotosynteza?\""
      ],
      "metadata": {
        "id": "QI_BQbT7zO_W"
      },
      "execution_count": null,
      "outputs": []
    },
    {
      "cell_type": "code",
      "source": [
        "generate(prompt)"
      ],
      "metadata": {
        "colab": {
          "base_uri": "https://localhost:8080/"
        },
        "id": "L5nbU9f06FOl",
        "outputId": "3c091143-6e50-40fa-edb7-ee1bd0a99317"
      },
      "execution_count": null,
      "outputs": [
        {
          "output_type": "stream",
          "name": "stderr",
          "text": [
            "The attention mask and the pad token id were not set. As a consequence, you may observe unexpected behavior. Please pass your input's `attention_mask` to obtain reliable results.\n",
            "Setting `pad_token_id` to `eos_token_id`:2 for open-end generation.\n"
          ]
        },
        {
          "output_type": "stream",
          "name": "stdout",
          "text": [
            " Fotosynteza to proces, w którym rośliny, algi i niektóre bakterie przekształcają energię słoneczną w chemiczną energię w postaci glukozy, wykorzystując do tego chlorofil - zielony barwnik obecny w chloroplastach. W trakcie tego procesu rośliny pobierają dwutlenek węgla z powietrza i wodę z gleby, a następnie emitują tlen jako produkt uboczny. Fotosynteza jest kluczowa dla życia na Ziemi, ponieważ dostarcza niezbędnej energii do utrzymania złożonych ekosystemów i łańcucha pokarmowego.\n"
          ]
        }
      ]
    },
    {
      "cell_type": "markdown",
      "source": [
        "# Przykład 3\n",
        "\n",
        "Praca na tekście"
      ],
      "metadata": {
        "id": "GIE2Tl-c6YRm"
      }
    },
    {
      "cell_type": "code",
      "source": [
        "temperature = 0.1\n",
        "max_tokens = 512"
      ],
      "metadata": {
        "id": "MPBNIITq_Ug8"
      },
      "execution_count": null,
      "outputs": []
    },
    {
      "cell_type": "code",
      "source": [
        "review = \"Przy waszych odsetkach to tylko chleb i margaryna!\"\n",
        "prompt = f\"Czy podana opinia jest pozytywna czy negatywne i wyjaśnij to obszernie.\\n\\n###OPINIA:\\n{review}\"\n",
        "\n",
        "generate(prompt)"
      ],
      "metadata": {
        "id": "qqBb_Eio6lhi"
      },
      "execution_count": null,
      "outputs": []
    },
    {
      "cell_type": "code",
      "source": [
        "system = \"Pracujesz jako specjalista od zarządzania jakością w banku i badasz doświadczenia klientów. Analizujesz opinie, wskazujesz pozytywne aspekty, na które zwrócili uwagę klienci oraz obszary do poprawy. Odpowiadasz w języku polskim.\"\n",
        "\n",
        "generate(review, system)"
      ],
      "metadata": {
        "colab": {
          "base_uri": "https://localhost:8080/"
        },
        "id": "BugZibbv8A0V",
        "outputId": "389320e3-02d2-48f1-b37e-c972a9292893"
      },
      "execution_count": null,
      "outputs": [
        {
          "output_type": "stream",
          "name": "stderr",
          "text": [
            "The attention mask and the pad token id were not set. As a consequence, you may observe unexpected behavior. Please pass your input's `attention_mask` to obtain reliable results.\n",
            "Setting `pad_token_id` to `eos_token_id`:2 for open-end generation.\n"
          ]
        },
        {
          "output_type": "stream",
          "name": "stdout",
          "text": [
            " Dziękujemy za wyrażenie swojej opinii. Jesteśmy świadomi, że może być wiele do poprawy w obszarze doświadczeń naszych klientów. Cieszymy się, że zwróciłeś uwagę na te obszary i doceniamy Twoje zaangażowanie w doskonalenie naszych usług. Będziemy nadal monitorować Twoje sugestie i dążyć do zapewnienia jeszcze lepszych doświadczeń finansowych. Dziękujemy za korzystanie z naszych usług i życzymy miłego dnia!\n"
          ]
        }
      ]
    },
    {
      "cell_type": "code",
      "source": [],
      "metadata": {
        "id": "Okqx5nYTAjNH"
      },
      "execution_count": null,
      "outputs": []
    },
    {
      "cell_type": "code",
      "source": [
        "temperature = 0.2\n",
        "\n",
        "review = \"\"\"Aplikacja działała świetnie i jest już w języku angielskim...​\n",
        "Jednak od tygodnia zawiesza się, nie można się zalogować, używam tylko blika i akceptuję płatności...​\n",
        "Kiedy to zostanie rozwiązane?\"\"\"\n",
        "\n",
        "prompt = f\"Czy podana opinia jest pozytywna czy negatywne? Uzasadnij odpowiedź, wymień w punktach aspekty pozytywne oraz wymagające poprawy. \\n\\n###OPINIA:\\n{review}\"\n",
        "\n",
        "generate(prompt)"
      ],
      "metadata": {
        "colab": {
          "base_uri": "https://localhost:8080/"
        },
        "id": "CK9bYzwy_ZsU",
        "outputId": "92b15470-e600-48fe-a46d-fa5e5eb58864"
      },
      "execution_count": null,
      "outputs": [
        {
          "output_type": "stream",
          "name": "stderr",
          "text": [
            "The attention mask and the pad token id were not set. As a consequence, you may observe unexpected behavior. Please pass your input's `attention_mask` to obtain reliable results.\n",
            "Setting `pad_token_id` to `eos_token_id`:2 for open-end generation.\n"
          ]
        },
        {
          "output_type": "stream",
          "name": "stdout",
          "text": [
            " Opinia jest mieszana, ponieważ podaje zarówno aspekty pozytywne, jak i negatywne. \n",
            "\n",
            "Aspekty pozytywne: \n",
            "1. Aplikacja działa świetnie \n",
            "2. Jest już w języku angielskim \n",
            "\n",
            "Aspekty wymagające poprawy: \n",
            "1. Od tygodnia się zawiesza \n",
            "2. Nie można się zalogować \n",
            "3. Używany jest tylko Blik do płatności \n",
            "4. Brak informacji o problemie ze strony aplikacji \n",
            "5. Pytanie o termin rozwiązania problemu, które nie otrzymało odpowiedzi\n"
          ]
        }
      ]
    },
    {
      "cell_type": "code",
      "source": [],
      "metadata": {
        "id": "smzet8tX_tdO"
      },
      "execution_count": null,
      "outputs": []
    },
    {
      "cell_type": "markdown",
      "source": [
        "# Przykład 4\n",
        "Praca z dokumentami"
      ],
      "metadata": {
        "id": "k5Q8N5e9CfgO"
      }
    },
    {
      "cell_type": "code",
      "source": [
        "import requests\n",
        "from bs4 import BeautifulSoup\n",
        "import re\n",
        "\n",
        "def get_page_content(url = 'https://hiperautomatyzacja.pl'):\n",
        "\n",
        "  response = requests.get(url)\n",
        "  html_content = response.text\n",
        "  soup = BeautifulSoup(html_content, 'html.parser')\n",
        "  plain_text = soup.get_text()\n",
        "  #clean_text = re.sub(r'\\s+', ' ', plain_text).strip()\n",
        "  clean_text = plain_text\n",
        "  return clean_text"
      ],
      "metadata": {
        "id": "E91KX_t2_tWt"
      },
      "execution_count": null,
      "outputs": []
    },
    {
      "cell_type": "code",
      "source": [
        "temperature = 0.1\n",
        "max_tokens = 512\n",
        "\n",
        "system = \"Dokonaj streszczenia podanego tekstu strony internetowej. Pisz w języku polskim.\"\n",
        "prompt = get_page_content(\"https://hiperautomatyzacja.pl\")\n",
        "\n",
        "generate(prompt, system = system)"
      ],
      "metadata": {
        "colab": {
          "base_uri": "https://localhost:8080/"
        },
        "id": "BeceSbT0Bvxb",
        "outputId": "c341e7ee-0f67-4459-b6e8-62eec62955e8"
      },
      "execution_count": null,
      "outputs": [
        {
          "output_type": "stream",
          "name": "stderr",
          "text": [
            "The attention mask and the pad token id were not set. As a consequence, you may observe unexpected behavior. Please pass your input's `attention_mask` to obtain reliable results.\n",
            "Setting `pad_token_id` to `eos_token_id`:2 for open-end generation.\n"
          ]
        },
        {
          "output_type": "stream",
          "name": "stdout",
          "text": [
            " HiperAutomatyzacja.pl to strona internetowa poświęcona konferencji na temat automatyzacji i AI w skali Enterprise. Organizator konferencji oferuje nieodpłatny udział w 8 edycji konferencji, podczas której prezentowane będą case studies z Polski. Konferencja odbędzie się w dniach 10-12 czerwca 2024 r. w Warszawie.\n",
            "\n",
            "Konferencja skierowana jest do menedżerów i specjalistów ds. automatyzacji i robotyzacji procesów biznesowych. Uczestnicy konferencji będą mieli możliwość zobaczenia 18 case studies z Polski.\n",
            "\n",
            "Organizator konferencji zapewnia dostęp do nagrań z konferencji dla uczestników odpłatnych. Ponadto, uczestnicy otrzymają dostęp do szkolenia on-line \"Moc Inteligentnych Procesów\" na rok od daty zakupu.\n",
            "\n",
            "Konferencja jest częścią większego projektu - Liderzy.AI, mającego na celu budowanie polskiej społeczności hiperautomatyzacji i AI.\n"
          ]
        }
      ]
    },
    {
      "cell_type": "code",
      "source": [
        "prompt = get_page_content(\"https://hiperautomatyzacja.pl/program?s=7\")\n",
        "generate(prompt, system = system)\n"
      ],
      "metadata": {
        "colab": {
          "base_uri": "https://localhost:8080/"
        },
        "id": "DhAEVf16C4jh",
        "outputId": "50ce5f55-acae-45d9-decf-a0cea48069c5"
      },
      "execution_count": null,
      "outputs": [
        {
          "output_type": "stream",
          "name": "stderr",
          "text": [
            "The attention mask and the pad token id were not set. As a consequence, you may observe unexpected behavior. Please pass your input's `attention_mask` to obtain reliable results.\n",
            "Setting `pad_token_id` to `eos_token_id`:2 for open-end generation.\n"
          ]
        },
        {
          "output_type": "stream",
          "name": "stdout",
          "text": [
            " HiperAutomatyzacja.pl to program skupiający się na zastosowaniu automatyzacji i sztucznej inteligencji w biznesie. Wydarzenie ma na celu pomóc firmom w transformacji cyfrowej i zoptymalizowaniu procesów. W ramach programu organizowane są konferencje, podczas których eksperci prezentują najnowsze trendy i praktyki w branży. Uczestnicy mają również możliwość wymiany doświadczeń i nawiązania cennych kontaktów biznesowych. Partnerem strategicznym programu jest firma Morele.net, a partnerem merytorycznym - PZU. Partnerami konferencji są m.in. ING Hubs Poland, XTB, Raben Group, i Ergo Ex.\n"
          ]
        }
      ]
    },
    {
      "cell_type": "code",
      "source": [
        "system = \"Wymień warsztaty dotyczące AI oraz prowadzących z imienia, nazwiska z poniższego tekstu strony internetowej.\"\n",
        "prompt = system + \"\\n\\nTEKST:\" + get_page_content(\"https://hiperautomatyzacja.pl/program?s=7\")\n",
        "generate(prompt)"
      ],
      "metadata": {
        "colab": {
          "base_uri": "https://localhost:8080/"
        },
        "id": "Tokv2n6zDmMk",
        "outputId": "63f63691-217b-40c8-aafe-5cc90e2345b5"
      },
      "execution_count": null,
      "outputs": [
        {
          "output_type": "stream",
          "name": "stderr",
          "text": [
            "The attention mask and the pad token id were not set. As a consequence, you may observe unexpected behavior. Please pass your input's `attention_mask` to obtain reliable results.\n",
            "Setting `pad_token_id` to `eos_token_id`:2 for open-end generation.\n"
          ]
        },
        {
          "output_type": "stream",
          "name": "stdout",
          "text": [
            " Oto warsztaty dotyczące AI wymienione w tekście:\n",
            "\n",
            "1. Zbigniew Kępiński - HiperAutomatyzacja.pl - Hiperautomatyzacja w logistyce\n",
            "2. Tomasz Gawron - XTB - Automatyzujące w skali Enterprise\n",
            "3. Maciej Zyzak - ING Hubs Poland - Product Manager (Big Data & AI)\n",
            "4. Adam Rataj - Morele.net - Change Director (PZU IT Delivery Manager (Big Data & AI))\n",
            "5. Maciej Rudziński - PZU - IT Delivery Manager (Big Data & AI)\n",
            "6. Tomasz Łopuchowicz - ISS World Services - Automation & RPA Manager\n",
            "7. Artur Szylkin - ISS World Services - Automation, AI governance & Integration Domain Architect\n",
            "8. Krzysztof Karaszewski - Międzynarodowy Bank - Product Manager (Big Data & AI)\n",
            "9. Paweł Bulowski - Ergo ex Ergo, In transition - Wersja 2.0 dokumentu Dobrych Praktyk Robotyzacji Procesów wydanego przez Związek Banków Polskich\n",
            "10. Radosław Repczyński - Credit Agricole Bank Polska - Senior Business Process Manager (Bielik w praktyce, czyli jak zbudować czatbota korzystając z otwartego polskiego modelu językowego)\n"
          ]
        }
      ]
    },
    {
      "cell_type": "code",
      "source": [
        "system = \"\"\"Wymień warsztaty dotyczące AI z poniższego tekstu strony internetowej. Zwróć w postaci JSON według szablonu\n",
        "[\n",
        "  {\n",
        "    'trener':...,\n",
        "    'temat':...,\n",
        "    'godzina': ...\n",
        "    }\n",
        "    ,\n",
        "] \"\"\"\n",
        "\n",
        "prompt = system + \"\\n\\nTEKST:\" + get_page_content(\"https://hiperautomatyzacja.pl/program?s=7\")\n",
        "generate(prompt)"
      ],
      "metadata": {
        "colab": {
          "base_uri": "https://localhost:8080/"
        },
        "id": "qO7Q2ouGD1_i",
        "outputId": "f6c58d67-8a78-4f68-f4c8-cd7adf3319ef"
      },
      "execution_count": null,
      "outputs": [
        {
          "output_type": "stream",
          "name": "stderr",
          "text": [
            "The attention mask and the pad token id were not set. As a consequence, you may observe unexpected behavior. Please pass your input's `attention_mask` to obtain reliable results.\n",
            "Setting `pad_token_id` to `eos_token_id`:2 for open-end generation.\n"
          ]
        },
        {
          "output_type": "stream",
          "name": "stdout",
          "text": [
            " {\n",
            " \"trener\": {\n",
            "   \"name\": \"Zbigniew Kępiński\",\n",
            "   \"event\": \"HiperAutomatyzacja.pl\",\n",
            "   \"date\": \"09.05.2023\",\n",
            "   \"time\": \"09:10\",\n",
            "   \"location\": \"Online\"\n",
            " },\n",
            " \"trener\": {\n",
            "   \"name\": \"Tomasz Gawron\",\n",
            "   \"event\": \"HiperAutomatyzacja.pl\",\n",
            "   \"date\": \"09.05.2023\",\n",
            "   \"time\": \"10:00\",\n",
            "   \"location\": \"Online\"\n",
            " },\n",
            " \"trener\": {\n",
            "   \"name\": \"Maciej Zyzak\",\n",
            "   \"event\": \"HiperAutomatyzacja.pl\",\n",
            "   \"date\": \"09.05.2023\",\n",
            "   \"time\": \"10:50\",\n",
            "   \"location\": \"Online\"\n",
            " },\n",
            " \"trener\": {\n",
            "   \"name\": \"Maciej Rudziński\",\n",
            "   \"event\": \"HiperAutomatyzacja.pl\",\n",
            "   \"date\": \"09.05.2023\",\n",
            "   \"time\": \"11:30\",\n",
            "   \"location\": \"Online\"\n",
            " },\n",
            " \"trener\": {\n",
            "   \"name\": \"Adam Rataj\",\n",
            "   \"event\": \"HiperAutomatyzacja.pl\",\n",
            "   \"date\": \"09.05.2023\",\n",
            "   \"time\": \"12:50\",\n",
            "   \"location\": \"Online\"\n",
            " },\n",
            " \"trener\": {\n",
            "   \"name\": \"Tomasz Łopuchowicz\",\n",
            "   \"event\": \"HiperAutomatyzacja.pl\",\n",
            "   \"date\": \"09.05.2023\",\n",
            "   \"time\": \"13:30\",\n",
            "   \"location\": \"Online\"\n",
            " },\n",
            " \"trener\": {\n",
            "   \"name\": \"Artur Szylkin\",\n",
            "   \"event\": \"HiperAutomatyzacja.pl\",\n",
            "   \"date\": \"09.05\n"
          ]
        }
      ]
    },
    {
      "cell_type": "code",
      "source": [
        "max_tokens = 1024\n",
        "temperature = 0.1\n",
        "\n",
        "system = \"Pracujesz w agencji rekrutacyjnej. Pomagasz dużej firmie z branży finansowej zatrudnić menedżera do spraw AI. Dokonaj oceny podanego kandydata i wypisz jego mocne strony.\"\n",
        "prompt = get_page_content(\"https://hiperautomatyzacja.pl/o-organizatorze\")\n",
        "generate(prompt, system = system)"
      ],
      "metadata": {
        "colab": {
          "base_uri": "https://localhost:8080/"
        },
        "id": "dIl3iV20GHjg",
        "outputId": "abf51b23-96a3-447e-b704-2be1d769f4d2"
      },
      "execution_count": null,
      "outputs": [
        {
          "output_type": "stream",
          "name": "stderr",
          "text": [
            "The attention mask and the pad token id were not set. As a consequence, you may observe unexpected behavior. Please pass your input's `attention_mask` to obtain reliable results.\n",
            "Setting `pad_token_id` to `eos_token_id`:2 for open-end generation.\n"
          ]
        },
        {
          "output_type": "stream",
          "name": "stdout",
          "text": [
            " Mocne strony kandydata:\n",
            "\n",
            "1. Głęboka wiedza i doświadczenie w zarządzaniu projektami: Kandydat posiada ponad 15 lat doświadczenia w zarządzaniu projektami w różnych branżach, co pozwala mu na efektywne planowanie, koordynację i kontrolę projektów.\n",
            "\n",
            "2. Silne umiejętności analityczne i strategiczne: Kandydat posiada wysoko rozwinięte umiejętności analizy biznesowej i strategicznego myślenia, co pozwala mu na identyfikowanie możliwości i ryzyk oraz tworzenie efektywnych planów działania.\n",
            "\n",
            "3. Wszechstronność technologiczna: Kandydat jest biegły w różnych technologiach, w tym w zarządzaniu projektami, analizie danych, zarządzaniu zespołami zdalnymi oraz tworzeniu i wdrażaniu strategii cyfrowych.\n",
            "\n",
            "4. Umiejętność budowania relacji i zespołów: Kandydat posiada wysoko rozwinięte umiejętności interpersonalne i przywódcze, co pozwala mu na skuteczne budowanie zespołów i efektywną komunikację z partnerami biznesowymi.\n",
            "\n",
            "5. Skoncentrowanie na rezultatach: Kandydat jest silnie skoncentrowany na osiąganiu celów i rezultatów, co pozwala mu na dostarczanie wartości biznesowej i przekraczanie oczekiwań klientów.\n",
            "\n",
            "6. Zdolności adaptacyjne i innowacyjne podejście: Kandydat posiada umiejętność szybkiego dostosowywania się do zmieniających się warunków rynkowych i technologicznych, co pozwala mu na wprowadzanie innowacji i eksperymentowanie z nowymi rozwiązaniami.\n",
            "\n",
            "7. Silne zrozumienie roli technologii w biznesie: Kandydat posiada wszechstronną wiedzę na temat roli technologii w biznesie i jest świadomy wpływu, jaki technologia może mieć na transformację organizacji i poprawę efektywności operacyjnej.\n"
          ]
        }
      ]
    },
    {
      "cell_type": "code",
      "source": [],
      "metadata": {
        "id": "KE3B8N3gI4T8"
      },
      "execution_count": null,
      "outputs": []
    }
  ]
}