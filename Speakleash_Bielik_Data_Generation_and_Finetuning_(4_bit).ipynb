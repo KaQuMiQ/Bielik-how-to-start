{
  "nbformat": 4,
  "nbformat_minor": 0,
  "metadata": {
    "colab": {
      "provenance": [],
      "machine_shape": "hm",
      "gpuType": "T4"
    },
    "kernelspec": {
      "name": "python3",
      "display_name": "Python 3"
    },
    "language_info": {
      "name": "python"
    },
    "accelerator": "GPU",
    "widgets": {
      "application/vnd.jupyter.widget-state+json": {
        "0275e8a94a274685a80b81c4ba18142e": {
          "model_module": "@jupyter-widgets/controls",
          "model_name": "HBoxModel",
          "model_module_version": "1.5.0",
          "state": {
            "_dom_classes": [],
            "_model_module": "@jupyter-widgets/controls",
            "_model_module_version": "1.5.0",
            "_model_name": "HBoxModel",
            "_view_count": null,
            "_view_module": "@jupyter-widgets/controls",
            "_view_module_version": "1.5.0",
            "_view_name": "HBoxView",
            "box_style": "",
            "children": [
              "IPY_MODEL_57ff9e4c0f01481d94866bbd3078d712",
              "IPY_MODEL_6030cd1d0bb1420980622ff244a0c783",
              "IPY_MODEL_9b3e516250ac488a9e1cc7e241bc171a"
            ],
            "layout": "IPY_MODEL_559208fefd8f409dbf469ee697908d3b"
          }
        },
        "57ff9e4c0f01481d94866bbd3078d712": {
          "model_module": "@jupyter-widgets/controls",
          "model_name": "HTMLModel",
          "model_module_version": "1.5.0",
          "state": {
            "_dom_classes": [],
            "_model_module": "@jupyter-widgets/controls",
            "_model_module_version": "1.5.0",
            "_model_name": "HTMLModel",
            "_view_count": null,
            "_view_module": "@jupyter-widgets/controls",
            "_view_module_version": "1.5.0",
            "_view_name": "HTMLView",
            "description": "",
            "description_tooltip": null,
            "layout": "IPY_MODEL_5b1dc368a70744c0a360b4fb8a70e846",
            "placeholder": "​",
            "style": "IPY_MODEL_fa5e7f23b1fd41f8a017f59fc00e93a5",
            "value": "Downloading shards:   0%"
          }
        },
        "6030cd1d0bb1420980622ff244a0c783": {
          "model_module": "@jupyter-widgets/controls",
          "model_name": "FloatProgressModel",
          "model_module_version": "1.5.0",
          "state": {
            "_dom_classes": [],
            "_model_module": "@jupyter-widgets/controls",
            "_model_module_version": "1.5.0",
            "_model_name": "FloatProgressModel",
            "_view_count": null,
            "_view_module": "@jupyter-widgets/controls",
            "_view_module_version": "1.5.0",
            "_view_name": "ProgressView",
            "bar_style": "",
            "description": "",
            "description_tooltip": null,
            "layout": "IPY_MODEL_e092c290bff047aa9dacf3368d477597",
            "max": 3,
            "min": 0,
            "orientation": "horizontal",
            "style": "IPY_MODEL_d960b5396b60476087c64c5faf2f6528",
            "value": 0
          }
        },
        "9b3e516250ac488a9e1cc7e241bc171a": {
          "model_module": "@jupyter-widgets/controls",
          "model_name": "HTMLModel",
          "model_module_version": "1.5.0",
          "state": {
            "_dom_classes": [],
            "_model_module": "@jupyter-widgets/controls",
            "_model_module_version": "1.5.0",
            "_model_name": "HTMLModel",
            "_view_count": null,
            "_view_module": "@jupyter-widgets/controls",
            "_view_module_version": "1.5.0",
            "_view_name": "HTMLView",
            "description": "",
            "description_tooltip": null,
            "layout": "IPY_MODEL_044a0154c6804ade96bd833c23aa8df0",
            "placeholder": "​",
            "style": "IPY_MODEL_0ac4eee8ae6143c58107c30b401d6dbb",
            "value": " 0/3 [00:00&lt;?, ?it/s]"
          }
        },
        "559208fefd8f409dbf469ee697908d3b": {
          "model_module": "@jupyter-widgets/base",
          "model_name": "LayoutModel",
          "model_module_version": "1.2.0",
          "state": {
            "_model_module": "@jupyter-widgets/base",
            "_model_module_version": "1.2.0",
            "_model_name": "LayoutModel",
            "_view_count": null,
            "_view_module": "@jupyter-widgets/base",
            "_view_module_version": "1.2.0",
            "_view_name": "LayoutView",
            "align_content": null,
            "align_items": null,
            "align_self": null,
            "border": null,
            "bottom": null,
            "display": null,
            "flex": null,
            "flex_flow": null,
            "grid_area": null,
            "grid_auto_columns": null,
            "grid_auto_flow": null,
            "grid_auto_rows": null,
            "grid_column": null,
            "grid_gap": null,
            "grid_row": null,
            "grid_template_areas": null,
            "grid_template_columns": null,
            "grid_template_rows": null,
            "height": null,
            "justify_content": null,
            "justify_items": null,
            "left": null,
            "margin": null,
            "max_height": null,
            "max_width": null,
            "min_height": null,
            "min_width": null,
            "object_fit": null,
            "object_position": null,
            "order": null,
            "overflow": null,
            "overflow_x": null,
            "overflow_y": null,
            "padding": null,
            "right": null,
            "top": null,
            "visibility": null,
            "width": null
          }
        },
        "5b1dc368a70744c0a360b4fb8a70e846": {
          "model_module": "@jupyter-widgets/base",
          "model_name": "LayoutModel",
          "model_module_version": "1.2.0",
          "state": {
            "_model_module": "@jupyter-widgets/base",
            "_model_module_version": "1.2.0",
            "_model_name": "LayoutModel",
            "_view_count": null,
            "_view_module": "@jupyter-widgets/base",
            "_view_module_version": "1.2.0",
            "_view_name": "LayoutView",
            "align_content": null,
            "align_items": null,
            "align_self": null,
            "border": null,
            "bottom": null,
            "display": null,
            "flex": null,
            "flex_flow": null,
            "grid_area": null,
            "grid_auto_columns": null,
            "grid_auto_flow": null,
            "grid_auto_rows": null,
            "grid_column": null,
            "grid_gap": null,
            "grid_row": null,
            "grid_template_areas": null,
            "grid_template_columns": null,
            "grid_template_rows": null,
            "height": null,
            "justify_content": null,
            "justify_items": null,
            "left": null,
            "margin": null,
            "max_height": null,
            "max_width": null,
            "min_height": null,
            "min_width": null,
            "object_fit": null,
            "object_position": null,
            "order": null,
            "overflow": null,
            "overflow_x": null,
            "overflow_y": null,
            "padding": null,
            "right": null,
            "top": null,
            "visibility": null,
            "width": null
          }
        },
        "fa5e7f23b1fd41f8a017f59fc00e93a5": {
          "model_module": "@jupyter-widgets/controls",
          "model_name": "DescriptionStyleModel",
          "model_module_version": "1.5.0",
          "state": {
            "_model_module": "@jupyter-widgets/controls",
            "_model_module_version": "1.5.0",
            "_model_name": "DescriptionStyleModel",
            "_view_count": null,
            "_view_module": "@jupyter-widgets/base",
            "_view_module_version": "1.2.0",
            "_view_name": "StyleView",
            "description_width": ""
          }
        },
        "e092c290bff047aa9dacf3368d477597": {
          "model_module": "@jupyter-widgets/base",
          "model_name": "LayoutModel",
          "model_module_version": "1.2.0",
          "state": {
            "_model_module": "@jupyter-widgets/base",
            "_model_module_version": "1.2.0",
            "_model_name": "LayoutModel",
            "_view_count": null,
            "_view_module": "@jupyter-widgets/base",
            "_view_module_version": "1.2.0",
            "_view_name": "LayoutView",
            "align_content": null,
            "align_items": null,
            "align_self": null,
            "border": null,
            "bottom": null,
            "display": null,
            "flex": null,
            "flex_flow": null,
            "grid_area": null,
            "grid_auto_columns": null,
            "grid_auto_flow": null,
            "grid_auto_rows": null,
            "grid_column": null,
            "grid_gap": null,
            "grid_row": null,
            "grid_template_areas": null,
            "grid_template_columns": null,
            "grid_template_rows": null,
            "height": null,
            "justify_content": null,
            "justify_items": null,
            "left": null,
            "margin": null,
            "max_height": null,
            "max_width": null,
            "min_height": null,
            "min_width": null,
            "object_fit": null,
            "object_position": null,
            "order": null,
            "overflow": null,
            "overflow_x": null,
            "overflow_y": null,
            "padding": null,
            "right": null,
            "top": null,
            "visibility": null,
            "width": null
          }
        },
        "d960b5396b60476087c64c5faf2f6528": {
          "model_module": "@jupyter-widgets/controls",
          "model_name": "ProgressStyleModel",
          "model_module_version": "1.5.0",
          "state": {
            "_model_module": "@jupyter-widgets/controls",
            "_model_module_version": "1.5.0",
            "_model_name": "ProgressStyleModel",
            "_view_count": null,
            "_view_module": "@jupyter-widgets/base",
            "_view_module_version": "1.2.0",
            "_view_name": "StyleView",
            "bar_color": null,
            "description_width": ""
          }
        },
        "044a0154c6804ade96bd833c23aa8df0": {
          "model_module": "@jupyter-widgets/base",
          "model_name": "LayoutModel",
          "model_module_version": "1.2.0",
          "state": {
            "_model_module": "@jupyter-widgets/base",
            "_model_module_version": "1.2.0",
            "_model_name": "LayoutModel",
            "_view_count": null,
            "_view_module": "@jupyter-widgets/base",
            "_view_module_version": "1.2.0",
            "_view_name": "LayoutView",
            "align_content": null,
            "align_items": null,
            "align_self": null,
            "border": null,
            "bottom": null,
            "display": null,
            "flex": null,
            "flex_flow": null,
            "grid_area": null,
            "grid_auto_columns": null,
            "grid_auto_flow": null,
            "grid_auto_rows": null,
            "grid_column": null,
            "grid_gap": null,
            "grid_row": null,
            "grid_template_areas": null,
            "grid_template_columns": null,
            "grid_template_rows": null,
            "height": null,
            "justify_content": null,
            "justify_items": null,
            "left": null,
            "margin": null,
            "max_height": null,
            "max_width": null,
            "min_height": null,
            "min_width": null,
            "object_fit": null,
            "object_position": null,
            "order": null,
            "overflow": null,
            "overflow_x": null,
            "overflow_y": null,
            "padding": null,
            "right": null,
            "top": null,
            "visibility": null,
            "width": null
          }
        },
        "0ac4eee8ae6143c58107c30b401d6dbb": {
          "model_module": "@jupyter-widgets/controls",
          "model_name": "DescriptionStyleModel",
          "model_module_version": "1.5.0",
          "state": {
            "_model_module": "@jupyter-widgets/controls",
            "_model_module_version": "1.5.0",
            "_model_name": "DescriptionStyleModel",
            "_view_count": null,
            "_view_module": "@jupyter-widgets/base",
            "_view_module_version": "1.2.0",
            "_view_name": "StyleView",
            "description_width": ""
          }
        },
        "4464e50fae134c1ab5970143cfcac01b": {
          "model_module": "@jupyter-widgets/controls",
          "model_name": "HBoxModel",
          "model_module_version": "1.5.0",
          "state": {
            "_dom_classes": [],
            "_model_module": "@jupyter-widgets/controls",
            "_model_module_version": "1.5.0",
            "_model_name": "HBoxModel",
            "_view_count": null,
            "_view_module": "@jupyter-widgets/controls",
            "_view_module_version": "1.5.0",
            "_view_name": "HBoxView",
            "box_style": "",
            "children": [
              "IPY_MODEL_5077e883e4b04ca397d734d938d479f6",
              "IPY_MODEL_dd84a2b3c3ea4125a8077cf76e2a3a1e",
              "IPY_MODEL_22b868daee9a4fe0ae6f451e4fa26a93"
            ],
            "layout": "IPY_MODEL_9faf5fbbfb46434ba62019d0a315066e"
          }
        },
        "5077e883e4b04ca397d734d938d479f6": {
          "model_module": "@jupyter-widgets/controls",
          "model_name": "HTMLModel",
          "model_module_version": "1.5.0",
          "state": {
            "_dom_classes": [],
            "_model_module": "@jupyter-widgets/controls",
            "_model_module_version": "1.5.0",
            "_model_name": "HTMLModel",
            "_view_count": null,
            "_view_module": "@jupyter-widgets/controls",
            "_view_module_version": "1.5.0",
            "_view_name": "HTMLView",
            "description": "",
            "description_tooltip": null,
            "layout": "IPY_MODEL_7ecba871c5424c2b8aa42917280cfa55",
            "placeholder": "​",
            "style": "IPY_MODEL_779d8328fcfb42a482a6d1a78d4d3c38",
            "value": "model-00002-of-00003.safetensors:  79%"
          }
        },
        "dd84a2b3c3ea4125a8077cf76e2a3a1e": {
          "model_module": "@jupyter-widgets/controls",
          "model_name": "FloatProgressModel",
          "model_module_version": "1.5.0",
          "state": {
            "_dom_classes": [],
            "_model_module": "@jupyter-widgets/controls",
            "_model_module_version": "1.5.0",
            "_model_name": "FloatProgressModel",
            "_view_count": null,
            "_view_module": "@jupyter-widgets/controls",
            "_view_module_version": "1.5.0",
            "_view_name": "ProgressView",
            "bar_style": "",
            "description": "",
            "description_tooltip": null,
            "layout": "IPY_MODEL_e02202bf9f1946fca1808c175e535f00",
            "max": 4999819336,
            "min": 0,
            "orientation": "horizontal",
            "style": "IPY_MODEL_cc96f9e8ac2a47fabcc55cba45952667",
            "value": 3953131520
          }
        },
        "22b868daee9a4fe0ae6f451e4fa26a93": {
          "model_module": "@jupyter-widgets/controls",
          "model_name": "HTMLModel",
          "model_module_version": "1.5.0",
          "state": {
            "_dom_classes": [],
            "_model_module": "@jupyter-widgets/controls",
            "_model_module_version": "1.5.0",
            "_model_name": "HTMLModel",
            "_view_count": null,
            "_view_module": "@jupyter-widgets/controls",
            "_view_module_version": "1.5.0",
            "_view_name": "HTMLView",
            "description": "",
            "description_tooltip": null,
            "layout": "IPY_MODEL_76e33f5d650145078e6ae83b612c4e72",
            "placeholder": "​",
            "style": "IPY_MODEL_478b0f6831e54624b248ec22445a0037",
            "value": " 3.95G/5.00G [03:31&lt;00:58, 17.9MB/s]"
          }
        },
        "9faf5fbbfb46434ba62019d0a315066e": {
          "model_module": "@jupyter-widgets/base",
          "model_name": "LayoutModel",
          "model_module_version": "1.2.0",
          "state": {
            "_model_module": "@jupyter-widgets/base",
            "_model_module_version": "1.2.0",
            "_model_name": "LayoutModel",
            "_view_count": null,
            "_view_module": "@jupyter-widgets/base",
            "_view_module_version": "1.2.0",
            "_view_name": "LayoutView",
            "align_content": null,
            "align_items": null,
            "align_self": null,
            "border": null,
            "bottom": null,
            "display": null,
            "flex": null,
            "flex_flow": null,
            "grid_area": null,
            "grid_auto_columns": null,
            "grid_auto_flow": null,
            "grid_auto_rows": null,
            "grid_column": null,
            "grid_gap": null,
            "grid_row": null,
            "grid_template_areas": null,
            "grid_template_columns": null,
            "grid_template_rows": null,
            "height": null,
            "justify_content": null,
            "justify_items": null,
            "left": null,
            "margin": null,
            "max_height": null,
            "max_width": null,
            "min_height": null,
            "min_width": null,
            "object_fit": null,
            "object_position": null,
            "order": null,
            "overflow": null,
            "overflow_x": null,
            "overflow_y": null,
            "padding": null,
            "right": null,
            "top": null,
            "visibility": null,
            "width": null
          }
        },
        "7ecba871c5424c2b8aa42917280cfa55": {
          "model_module": "@jupyter-widgets/base",
          "model_name": "LayoutModel",
          "model_module_version": "1.2.0",
          "state": {
            "_model_module": "@jupyter-widgets/base",
            "_model_module_version": "1.2.0",
            "_model_name": "LayoutModel",
            "_view_count": null,
            "_view_module": "@jupyter-widgets/base",
            "_view_module_version": "1.2.0",
            "_view_name": "LayoutView",
            "align_content": null,
            "align_items": null,
            "align_self": null,
            "border": null,
            "bottom": null,
            "display": null,
            "flex": null,
            "flex_flow": null,
            "grid_area": null,
            "grid_auto_columns": null,
            "grid_auto_flow": null,
            "grid_auto_rows": null,
            "grid_column": null,
            "grid_gap": null,
            "grid_row": null,
            "grid_template_areas": null,
            "grid_template_columns": null,
            "grid_template_rows": null,
            "height": null,
            "justify_content": null,
            "justify_items": null,
            "left": null,
            "margin": null,
            "max_height": null,
            "max_width": null,
            "min_height": null,
            "min_width": null,
            "object_fit": null,
            "object_position": null,
            "order": null,
            "overflow": null,
            "overflow_x": null,
            "overflow_y": null,
            "padding": null,
            "right": null,
            "top": null,
            "visibility": null,
            "width": null
          }
        },
        "779d8328fcfb42a482a6d1a78d4d3c38": {
          "model_module": "@jupyter-widgets/controls",
          "model_name": "DescriptionStyleModel",
          "model_module_version": "1.5.0",
          "state": {
            "_model_module": "@jupyter-widgets/controls",
            "_model_module_version": "1.5.0",
            "_model_name": "DescriptionStyleModel",
            "_view_count": null,
            "_view_module": "@jupyter-widgets/base",
            "_view_module_version": "1.2.0",
            "_view_name": "StyleView",
            "description_width": ""
          }
        },
        "e02202bf9f1946fca1808c175e535f00": {
          "model_module": "@jupyter-widgets/base",
          "model_name": "LayoutModel",
          "model_module_version": "1.2.0",
          "state": {
            "_model_module": "@jupyter-widgets/base",
            "_model_module_version": "1.2.0",
            "_model_name": "LayoutModel",
            "_view_count": null,
            "_view_module": "@jupyter-widgets/base",
            "_view_module_version": "1.2.0",
            "_view_name": "LayoutView",
            "align_content": null,
            "align_items": null,
            "align_self": null,
            "border": null,
            "bottom": null,
            "display": null,
            "flex": null,
            "flex_flow": null,
            "grid_area": null,
            "grid_auto_columns": null,
            "grid_auto_flow": null,
            "grid_auto_rows": null,
            "grid_column": null,
            "grid_gap": null,
            "grid_row": null,
            "grid_template_areas": null,
            "grid_template_columns": null,
            "grid_template_rows": null,
            "height": null,
            "justify_content": null,
            "justify_items": null,
            "left": null,
            "margin": null,
            "max_height": null,
            "max_width": null,
            "min_height": null,
            "min_width": null,
            "object_fit": null,
            "object_position": null,
            "order": null,
            "overflow": null,
            "overflow_x": null,
            "overflow_y": null,
            "padding": null,
            "right": null,
            "top": null,
            "visibility": null,
            "width": null
          }
        },
        "cc96f9e8ac2a47fabcc55cba45952667": {
          "model_module": "@jupyter-widgets/controls",
          "model_name": "ProgressStyleModel",
          "model_module_version": "1.5.0",
          "state": {
            "_model_module": "@jupyter-widgets/controls",
            "_model_module_version": "1.5.0",
            "_model_name": "ProgressStyleModel",
            "_view_count": null,
            "_view_module": "@jupyter-widgets/base",
            "_view_module_version": "1.2.0",
            "_view_name": "StyleView",
            "bar_color": null,
            "description_width": ""
          }
        },
        "76e33f5d650145078e6ae83b612c4e72": {
          "model_module": "@jupyter-widgets/base",
          "model_name": "LayoutModel",
          "model_module_version": "1.2.0",
          "state": {
            "_model_module": "@jupyter-widgets/base",
            "_model_module_version": "1.2.0",
            "_model_name": "LayoutModel",
            "_view_count": null,
            "_view_module": "@jupyter-widgets/base",
            "_view_module_version": "1.2.0",
            "_view_name": "LayoutView",
            "align_content": null,
            "align_items": null,
            "align_self": null,
            "border": null,
            "bottom": null,
            "display": null,
            "flex": null,
            "flex_flow": null,
            "grid_area": null,
            "grid_auto_columns": null,
            "grid_auto_flow": null,
            "grid_auto_rows": null,
            "grid_column": null,
            "grid_gap": null,
            "grid_row": null,
            "grid_template_areas": null,
            "grid_template_columns": null,
            "grid_template_rows": null,
            "height": null,
            "justify_content": null,
            "justify_items": null,
            "left": null,
            "margin": null,
            "max_height": null,
            "max_width": null,
            "min_height": null,
            "min_width": null,
            "object_fit": null,
            "object_position": null,
            "order": null,
            "overflow": null,
            "overflow_x": null,
            "overflow_y": null,
            "padding": null,
            "right": null,
            "top": null,
            "visibility": null,
            "width": null
          }
        },
        "478b0f6831e54624b248ec22445a0037": {
          "model_module": "@jupyter-widgets/controls",
          "model_name": "DescriptionStyleModel",
          "model_module_version": "1.5.0",
          "state": {
            "_model_module": "@jupyter-widgets/controls",
            "_model_module_version": "1.5.0",
            "_model_name": "DescriptionStyleModel",
            "_view_count": null,
            "_view_module": "@jupyter-widgets/base",
            "_view_module_version": "1.2.0",
            "_view_name": "StyleView",
            "description_width": ""
          }
        }
      }
    }
  },
  "cells": [
    {
      "cell_type": "code",
      "source": [
        "!pip install accelerate -q\n",
        "!pip install -i https://pypi.org/simple/ bitsandbytes -q\n",
        "!pip install datasets -q"
      ],
      "metadata": {
        "id": "KFJQZk9TGWLK"
      },
      "execution_count": null,
      "outputs": []
    },
    {
      "cell_type": "code",
      "source": [
        "import pandas as pd\n",
        "import torch\n",
        "import json\n",
        "\n",
        "from huggingface_hub import hf_hub_download\n",
        "\n",
        "from math import ceil"
      ],
      "metadata": {
        "id": "FcjkzCnUrz-t"
      },
      "execution_count": null,
      "outputs": []
    },
    {
      "cell_type": "code",
      "source": [
        "import warnings\n",
        "warnings.filterwarnings(\"ignore\")"
      ],
      "metadata": {
        "id": "xHQm2PEar0sg"
      },
      "execution_count": null,
      "outputs": []
    },
    {
      "cell_type": "markdown",
      "source": [
        "### Ładowanie Bielika"
      ],
      "metadata": {
        "id": "H2Kh_9gQEsBz"
      }
    },
    {
      "cell_type": "code",
      "source": [
        "from transformers import AutoModelForCausalLM, AutoTokenizer, BitsAndBytesConfig, TextStreamer\n",
        "\n",
        "device = \"cuda\"\n",
        "model_name = 'speakleash/Bielik-7B-v0.1'\n",
        "\n",
        "\n",
        "temperature = 1.0\n",
        "max_tokens = 500\n",
        "top_k = 200\n",
        "top_p = 1\n",
        "\n",
        "tokenizer = AutoTokenizer.from_pretrained(model_name)\n",
        "tokenizer.pad_token = tokenizer.eos_token\n",
        "\n",
        "streamer = TextStreamer(tokenizer, skip_prompt=True, skip_special_tokens=True)\n",
        "\n",
        "quantization_config = BitsAndBytesConfig(\n",
        "      load_in_8bit=True,\n",
        "      # bnb_4bit_compute_dtype=torch.bfloat16\n",
        ")\n",
        "\n",
        "model = AutoModelForCausalLM.from_pretrained(model_name,\n",
        "                                            torch_dtype=torch.bfloat16,\n",
        "                                            quantization_config=quantization_config\n",
        "                                            )\n",
        "\n",
        "model.generation_config.pad_token_id = tokenizer.pad_token_id\n"
      ],
      "metadata": {
        "id": "NIBU0rb0oXPR",
        "colab": {
          "base_uri": "https://localhost:8080/",
          "height": 118,
          "referenced_widgets": [
            "0275e8a94a274685a80b81c4ba18142e",
            "57ff9e4c0f01481d94866bbd3078d712",
            "6030cd1d0bb1420980622ff244a0c783",
            "9b3e516250ac488a9e1cc7e241bc171a",
            "559208fefd8f409dbf469ee697908d3b",
            "5b1dc368a70744c0a360b4fb8a70e846",
            "fa5e7f23b1fd41f8a017f59fc00e93a5",
            "e092c290bff047aa9dacf3368d477597",
            "d960b5396b60476087c64c5faf2f6528",
            "044a0154c6804ade96bd833c23aa8df0",
            "0ac4eee8ae6143c58107c30b401d6dbb",
            "4464e50fae134c1ab5970143cfcac01b",
            "5077e883e4b04ca397d734d938d479f6",
            "dd84a2b3c3ea4125a8077cf76e2a3a1e",
            "22b868daee9a4fe0ae6f451e4fa26a93",
            "9faf5fbbfb46434ba62019d0a315066e",
            "7ecba871c5424c2b8aa42917280cfa55",
            "779d8328fcfb42a482a6d1a78d4d3c38",
            "e02202bf9f1946fca1808c175e535f00",
            "cc96f9e8ac2a47fabcc55cba45952667",
            "76e33f5d650145078e6ae83b612c4e72",
            "478b0f6831e54624b248ec22445a0037"
          ]
        },
        "outputId": "0ca66e43-c703-48f8-aa72-354c7d846b99"
      },
      "execution_count": null,
      "outputs": [
        {
          "output_type": "stream",
          "name": "stderr",
          "text": [
            "`low_cpu_mem_usage` was None, now set to True since model is quantized.\n"
          ]
        },
        {
          "output_type": "display_data",
          "data": {
            "text/plain": [
              "Downloading shards:   0%|          | 0/3 [00:00<?, ?it/s]"
            ],
            "application/vnd.jupyter.widget-view+json": {
              "version_major": 2,
              "version_minor": 0,
              "model_id": "0275e8a94a274685a80b81c4ba18142e"
            }
          },
          "metadata": {}
        },
        {
          "output_type": "display_data",
          "data": {
            "text/plain": [
              "model-00002-of-00003.safetensors:   8%|8         | 409M/5.00G [00:00<?, ?B/s]"
            ],
            "application/vnd.jupyter.widget-view+json": {
              "version_major": 2,
              "version_minor": 0,
              "model_id": "4464e50fae134c1ab5970143cfcac01b"
            }
          },
          "metadata": {}
        }
      ]
    },
    {
      "cell_type": "code",
      "source": [
        "# TODO To Rewrite into create_input(), and generate()\n",
        "\n",
        "def generate(prompt, system = None):\n",
        "\n",
        "  messages = []\n",
        "\n",
        "  if system:\n",
        "    messages.append( {\"role\": \"system\", \"content\": system })\n",
        "\n",
        "  messages.append( {\"role\": \"user\", \"content\": prompt })\n",
        "\n",
        "\n",
        "  tokenizer_output = tokenizer.apply_chat_template(messages, return_tensors=\"pt\", return_dict=True)\n",
        "\n",
        "  if torch.cuda.is_available():\n",
        "    model_input_ids = tokenizer_output.input_ids.to(device)\n",
        "    model_attention_mask = tokenizer_output.attention_mask.to(device)\n",
        "\n",
        "  else:\n",
        "    model_input_ids = tokenizer_output.input_ids\n",
        "    model_attention_mask = tokenizer_output.attention_mask\n",
        "\n",
        "\n",
        "  # generowanie odpowiedzi\n",
        "  outputs = model.generate(model_input_ids,\n",
        "                           attention_mask=model_attention_mask,\n",
        "                           streamer = streamer,\n",
        "                           max_new_tokens=max_tokens,\n",
        "                           do_sample=True if temperature else False,\n",
        "                           temperature = temperature,\n",
        "                           top_k = top_k,\n",
        "                           top_p = top_p)\n",
        "\n",
        "  # # zapis do pliku\n",
        "  # filename = f\"{str(uuid.uuid4())[:8]}.json\"\n",
        "\n",
        "  # with open(filename, \"w\") as file:\n",
        "  #     content = {\n",
        "  #         \"prompt\": messages,\n",
        "  #          \"output\": tokenizer.batch_decode(outputs, skip_special_tokens=False)\n",
        "  #     }\n",
        "  #     json.dump(content, file, ensure_ascii=False, indent=4)\n",
        "\n",
        "\n"
      ],
      "metadata": {
        "id": "nBO2W57Enigs"
      },
      "execution_count": null,
      "outputs": []
    },
    {
      "cell_type": "code",
      "source": [
        "temperature = 0\n",
        "max_tokens = 1000\n",
        "top_k = 200\n",
        "top_p = 1\n",
        "\n",
        "\n",
        "query = \"Z Ilu kości składa się czaszka?\"\n",
        "prompt = f\"Odpowiedz zwięźle na pytanie: '{query}'\"\n",
        "generate(prompt)"
      ],
      "metadata": {
        "id": "rqnl8GsFx4Zy"
      },
      "execution_count": null,
      "outputs": []
    },
    {
      "cell_type": "markdown",
      "source": [
        "## Ładowanie Danych Q&A (Poquad)"
      ],
      "metadata": {
        "id": "XOAd-HOXjGrh"
      }
    },
    {
      "cell_type": "code",
      "source": [
        "hf_hub_download(repo_id=\"clarin-pl/poquad\", filename=\"poquad-train.json\", repo_type=\"dataset\", local_dir=\"./data\")"
      ],
      "metadata": {
        "id": "QeRczbhXQ1X6"
      },
      "execution_count": null,
      "outputs": []
    },
    {
      "cell_type": "code",
      "source": [
        "def read_poquad_data(filepath):\n",
        "        whole_data = []\n",
        "        with open(filepath, encoding=\"utf-8\") as f:\n",
        "            squad = json.load(f)\n",
        "            id_ = 0\n",
        "            for example in squad[\"data\"]:\n",
        "                title = example.get(\"title\", \"\")\n",
        "                for paragraph in example[\"paragraphs\"]:\n",
        "                    context = paragraph[\"context\"]\n",
        "                    for qa in paragraph[\"qas\"]:\n",
        "                        question = qa[\"question\"]\n",
        "\n",
        "                        answer_starts = [answer[\"answer_start\"] for answer in qa[\"answers\"]] if \"answers\" in qa else []\n",
        "\n",
        "                        answers = [answer[\"text\"] for answer in qa[\"answers\"]] if \"answers\" in qa else []\n",
        "                        is_impossible = qa[\"is_impossible\"]\n",
        "\n",
        "                        id_ += 1\n",
        "                        whole_data.append({\n",
        "                            \"id\": id_,\n",
        "                            \"title\": title,\n",
        "                            \"context\": context,\n",
        "                            \"question\": question,\n",
        "                            \"is_impossible\" : is_impossible,\n",
        "                            \"answers\": {\n",
        "                                \"answer_start\": answer_starts,\n",
        "                                \"text\": answers,\n",
        "                            },\n",
        "                        })\n",
        "\n",
        "        return pd.DataFrame(whole_data).set_index(\"id\")"
      ],
      "metadata": {
        "id": "rGwK3hQPNWWc"
      },
      "execution_count": null,
      "outputs": []
    },
    {
      "cell_type": "code",
      "source": [
        "df = read_poquad_data(\"./data/poquad-train.json\")\n",
        "\n",
        "df[\"target\"] = df[\"answers\"].apply(lambda x: \"Odpowiedź: \" + x[\"text\"][0] if x[\"text\"] else \"Odpowiedź niemożliwa!\")"
      ],
      "metadata": {
        "id": "ETM63OHxSP62"
      },
      "execution_count": null,
      "outputs": []
    },
    {
      "cell_type": "code",
      "source": [
        "def print_using_shorter_lines(words_list, word_limit):\n",
        "  n_fragments = ceil(len(words_list)/word_limit)\n",
        "\n",
        "  for i in range(n_fragments):\n",
        "    print(\" \".join(words_list[12*i:12*(i+1)]))\n",
        "\n",
        "\n",
        "def print_poquad_row(df, i, n_words_in_line=12):\n",
        "  print(\"Kontekst:\")\n",
        "\n",
        "  context = df.loc[i, \"context\"].split(\" \")\n",
        "  print_using_shorter_lines(context, n_words_in_line)\n",
        "\n",
        "  print(\"\\nPytanie:\")\n",
        "  question = df.loc[i, \"question\"].split(\" \")\n",
        "  print_using_shorter_lines(question, n_words_in_line)\n",
        "\n",
        "  print(\"\\nOczekiwana odpowiedź:\")\n",
        "  answer = df.loc[i, \"target\"].split(\" \")\n",
        "  print_using_shorter_lines(answer, n_words_in_line)\n",
        "\n",
        "def create_prompt_from_row(df, i):\n",
        "  return \"Kontekst: \" + df.loc[i, [\"context\", \"question\"]].str.cat(sep=\"\\nPytanie: \")\n",
        "\n",
        "\n"
      ],
      "metadata": {
        "id": "pNOQeOs1VOnc"
      },
      "execution_count": null,
      "outputs": []
    },
    {
      "cell_type": "markdown",
      "source": [
        "---"
      ],
      "metadata": {
        "id": "95IVDUyUjCSY"
      }
    },
    {
      "cell_type": "markdown",
      "source": [
        "## Przykładowe generowanie odpowiedzi"
      ],
      "metadata": {
        "id": "TaNIC2UWjNcj"
      }
    },
    {
      "cell_type": "code",
      "source": [
        "print_poquad_row(df, 1)"
      ],
      "metadata": {
        "id": "vuvJi5jyTDrq"
      },
      "execution_count": null,
      "outputs": []
    },
    {
      "cell_type": "code",
      "source": [
        "prompt_possible = create_prompt_from_row(df, 1)"
      ],
      "metadata": {
        "id": "qkzAnK9pa7a7"
      },
      "execution_count": null,
      "outputs": []
    },
    {
      "cell_type": "code",
      "source": [
        "system_prompt = \"\"\"Jesteś chatbotem odpowiadającym zwięźle na pytania na podstawie podanego kontekstu. Niektóre pytania mogą być niemożliwe, w takim wypadku musisz wstrzymać się od odpowiedzi. Twoje odpowiedzi mają przyjąć formę:\n",
        "\"Odpowiedź: 'treść odpowiedzi'\"\n",
        "jeśli treść odpowiedź istnieje w tekście\n",
        "lub\n",
        "\"Brak Odpowiedzi!\"\n",
        "jeśli nie da się odpowiedzieć na pytanie na podstawie kontekstu.\"\"\"\n",
        "\n",
        "generate(prompt=prompt_possible, system=system_prompt)"
      ],
      "metadata": {
        "id": "2m2aWYisaEDX"
      },
      "execution_count": null,
      "outputs": []
    },
    {
      "cell_type": "markdown",
      "source": [
        "Model Generuje przesadnie rozległy tekst."
      ],
      "metadata": {
        "id": "h3mDGXcZiz30"
      }
    },
    {
      "cell_type": "markdown",
      "source": [
        "---"
      ],
      "metadata": {
        "id": "Su3rMPt_i7yh"
      }
    },
    {
      "cell_type": "code",
      "source": [
        "print_poquad_row(df, 8)"
      ],
      "metadata": {
        "id": "MmXgr2B3hw-x"
      },
      "execution_count": null,
      "outputs": []
    },
    {
      "cell_type": "code",
      "source": [
        "prompt_impossible = create_prompt_from_row(df, 8)"
      ],
      "metadata": {
        "id": "sl5MQt9YhtdW"
      },
      "execution_count": null,
      "outputs": []
    },
    {
      "cell_type": "code",
      "source": [
        "generate(prompt=prompt_impossible, system=system_prompt)"
      ],
      "metadata": {
        "id": "gLDf4iAoh5bg"
      },
      "execution_count": null,
      "outputs": []
    },
    {
      "cell_type": "markdown",
      "source": [
        "Model Halucynuje."
      ],
      "metadata": {
        "id": "_P51tmjBiqLM"
      }
    },
    {
      "cell_type": "markdown",
      "source": [
        "---"
      ],
      "metadata": {
        "id": "WJWNrJWFi-Wx"
      }
    },
    {
      "cell_type": "markdown",
      "source": [
        "## Generowanie przesłanek\n"
      ],
      "metadata": {
        "id": "e_qcZpA0iaxw"
      }
    },
    {
      "cell_type": "code",
      "source": [
        "print_poquad_row(df, 26070)"
      ],
      "metadata": {
        "id": "UJqBsAS5j6n_"
      },
      "execution_count": null,
      "outputs": []
    },
    {
      "cell_type": "code",
      "source": [
        "system_prompt = f\"\"\"Jesteś chatbotem przeprowadzającym wnioskowanie mające na celu znalezienie fragmentu kontekstu odpowiadającego na pytanie. Niektóre pytania mogą być niemożliwe, w takim wypadku musisz wykazać, że odpowiedź jest niemożliwa i napisać 'Odpowiedź niemożliwa!'. Przykładowa forma odpowiedzi:\n",
        "\"Wnioskowanie: 'treść przesłanki;\n",
        "Odpowiedź: 'treść odpowiedzi - dlaczego odpowiedź jest możliwa'\"\n",
        "jeśli treść odpowiedź istnieje w tekście\n",
        "lub\n",
        "\"Wnioskowanie: 'treść przesłanki - dlaczego odpowiedź jest niemożliwa'\n",
        "Odpowiedź niemożliwa!\"\n",
        "jeśli nie da się odpowiedzieć na pytanie na podstawie kontekstu.\n",
        "\n",
        "Przykład 1:\n",
        "Kontekst: {df.loc[26070, \"context\"]}\n",
        "Pytanie: {df.loc[26070, \"question\"]}\n",
        "\n",
        "Wnioskowanie: Pytano o powód zasiedlenia Lubina. Wyrażenie 'związane jest' wskazuje na wpływ przecięcia się szlaków kupiekcich z powstaniem Lubina.\n",
        "{df.loc[26070, \"target\"]}\n",
        "\n",
        "Przykład 2:\n",
        "Kontekst: {df.loc[25251, \"context\"]}\n",
        "Pytanie: {df.loc[25251, \"question\"]}\n",
        "\n",
        "Wnioskowanie: W tekście liczba głosów dotyczy wyborów parlamentarnych. Pytano o wybory na prezydenta stolicy Polski, a więc brak informacji w tekście.\n",
        "{df.loc[25251, \"target\"]}\n",
        "\n",
        "Przykład 3:\n",
        "Kontekst: {df.loc[7900, \"context\"]}\n",
        "Pytanie: {df.loc[7900, \"question\"]}\n",
        "\n",
        "Wnioskowanie: W tekście informacja o liczbie posłów pojawia się w zdaniu: 'Do Sejmu Ustawodawczego weszło razem 36 posłów PPSD i PPS'. Pytano o liczbę posłów PPSD. W tekście podano liczbę posłów PPSD i PPS razem wziętych. Nie da się podać tylko liczby posłów PPSD.\n",
        "{df.loc[7900, \"target\"]}\n",
        "\"\"\"\n",
        "\n",
        "generate(prompt=prompt_possible, system=system_prompt)"
      ],
      "metadata": {
        "id": "jReHC_4KiT8N"
      },
      "execution_count": null,
      "outputs": []
    },
    {
      "cell_type": "code",
      "source": [
        "generate(prompt=create_prompt_from_row(df, 56607), system=system_prompt)"
      ],
      "metadata": {
        "id": "0qi67xmdm5he"
      },
      "execution_count": null,
      "outputs": []
    },
    {
      "cell_type": "code",
      "source": [
        "df[df[\"target\"] == \"Odpowiedź niemożliwa!\"]"
      ],
      "metadata": {
        "id": "fo_YxaDLr2XV"
      },
      "execution_count": null,
      "outputs": []
    }
  ]
}